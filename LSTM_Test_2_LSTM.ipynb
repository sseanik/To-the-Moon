{
  "nbformat": 4,
  "nbformat_minor": 0,
  "metadata": {
    "colab": {
      "name": "LSTM_Test_2_LSTM.ipynb",
      "provenance": [],
      "collapsed_sections": []
    },
    "kernelspec": {
      "display_name": "Python 3",
      "name": "python3"
    },
    "language_info": {
      "name": "python"
    }
  },
  "cells": [
    {
      "cell_type": "code",
      "metadata": {
        "id": "BhW8wOH4eEUT"
      },
      "source": [
        "import json\n",
        "import numpy as np\n",
        "import matplotlib.pyplot as plt\n",
        "import pandas as pd"
      ],
      "execution_count": null,
      "outputs": []
    },
    {
      "cell_type": "code",
      "metadata": {
        "id": "WrEyrVxrgP7n"
      },
      "source": [
        "class JSONLoader:\n",
        "    @staticmethod\n",
        "    def save_json(company_name, data, label=\"\"):\n",
        "        filename = f'./demo/{company_name}_{label}.json' if label \\\n",
        "            else f'./demo/{company_name}.json'\n",
        "        with open(filename, 'w') as outfile:\n",
        "            json.dump(data, outfile)\n",
        "\n",
        "    @staticmethod\n",
        "    def load_json(filename):\n",
        "        with open(filename, 'r') as infile:\n",
        "            data, metadata = json.load(infile)\n",
        "            return data, metadata\n",
        "\n",
        "    pass"
      ],
      "execution_count": null,
      "outputs": []
    },
    {
      "cell_type": "code",
      "metadata": {
        "id": "GpX_UCrKhOdH"
      },
      "source": [
        "ibm_data, ibm_metadata = JSONLoader.load_json(\"IBM_daily_adjusted.json\")"
      ],
      "execution_count": null,
      "outputs": []
    },
    {
      "cell_type": "code",
      "metadata": {
        "id": "1m9za0kvhqa7"
      },
      "source": [
        "price_df = pd.DataFrame.from_dict(ibm_data, orient='index').astype('float')\n",
        "price_df = price_df.reindex(index=price_df.index[::-1])\n",
        "price_df.index = pd.to_datetime(price_df.index)\n",
        "price_df = price_df.asfreq(freq=\"B\")"
      ],
      "execution_count": null,
      "outputs": []
    },
    {
      "cell_type": "code",
      "metadata": {
        "id": "eI4C4UXghyBN"
      },
      "source": [
        "train_cutoff = 4500\n",
        "training_set = price_df.iloc[:,4:5].values[:train_cutoff]"
      ],
      "execution_count": null,
      "outputs": []
    },
    {
      "cell_type": "code",
      "metadata": {
        "id": "Q4XA4ecbm5UZ"
      },
      "source": [
        "# price_df\n",
        "training_set\n",
        "for i in np.where(np.isnan(training_set))[0]: \n",
        "  training_set[i] = training_set[i-1] if not np.isnan(training_set[i-1]) else 0 "
      ],
      "execution_count": null,
      "outputs": []
    },
    {
      "cell_type": "code",
      "metadata": {
        "colab": {
          "base_uri": "https://localhost:8080/"
        },
        "id": "LJ_pgILcm5h8",
        "outputId": "d9f2f897-b70e-4d61-9fef-c5e32d07ed2c"
      },
      "source": [
        "training_set.shape"
      ],
      "execution_count": null,
      "outputs": [
        {
          "output_type": "execute_result",
          "data": {
            "text/plain": [
              "(4500, 1)"
            ]
          },
          "metadata": {
            "tags": []
          },
          "execution_count": 7
        }
      ]
    },
    {
      "cell_type": "code",
      "metadata": {
        "id": "WMn2pMv2hyFe"
      },
      "source": [
        "from sklearn.preprocessing import MinMaxScaler\n",
        "sc = MinMaxScaler(feature_range=(0,1))\n",
        "training_set_scaled = sc.fit_transform(training_set)"
      ],
      "execution_count": null,
      "outputs": []
    },
    {
      "cell_type": "code",
      "metadata": {
        "colab": {
          "base_uri": "https://localhost:8080/"
        },
        "id": "xCQCgyGmj7If",
        "outputId": "56b9af3f-9d55-4cd9-94f9-559ea861ad12"
      },
      "source": [
        "# training_set_scaled[-30:]\n",
        "training_set_scaled[0:30]"
      ],
      "execution_count": null,
      "outputs": [
        {
          "output_type": "execute_result",
          "data": {
            "text/plain": [
              "array([[0.20571078],\n",
              "       [0.19592707],\n",
              "       [0.19370808],\n",
              "       [0.17953683],\n",
              "       [0.1729303 ],\n",
              "       [0.19214471],\n",
              "       [0.19052884],\n",
              "       [0.20759646],\n",
              "       [0.19749728],\n",
              "       [0.20189042],\n",
              "       [0.19275066],\n",
              "       [0.19557843],\n",
              "       [0.19118528],\n",
              "       [0.21264606],\n",
              "       [0.24264065],\n",
              "       [0.26248555],\n",
              "       [0.25334579],\n",
              "       [0.24546842],\n",
              "       [0.24546842],\n",
              "       [0.24799322],\n",
              "       [0.24390305],\n",
              "       [0.23819701],\n",
              "       [0.24001486],\n",
              "       [0.24935661],\n",
              "       [0.28268393],\n",
              "       [0.30353876],\n",
              "       [0.3066695 ],\n",
              "       [0.31505183],\n",
              "       [0.29025832],\n",
              "       [0.2681916 ]])"
            ]
          },
          "metadata": {
            "tags": []
          },
          "execution_count": 9
        }
      ]
    },
    {
      "cell_type": "code",
      "metadata": {
        "id": "jT6shCJ9kUzp"
      },
      "source": [
        "X_train = []\n",
        "y_train = []\n",
        "n_steps_in = 60\n",
        "for i in range(n_steps_in, train_cutoff):\n",
        "    X_train.append(training_set_scaled[i-n_steps_in:i, 0])\n",
        "    y_train.append(training_set_scaled[i, 0])\n",
        "X_train, y_train = np.array(X_train), np.array(y_train)"
      ],
      "execution_count": null,
      "outputs": []
    },
    {
      "cell_type": "code",
      "metadata": {
        "colab": {
          "base_uri": "https://localhost:8080/"
        },
        "id": "RbTgfxxJRT0F",
        "outputId": "a866ac2b-85d4-486b-ed41-8199f4f2c28c"
      },
      "source": [
        "X_train[0]"
      ],
      "execution_count": null,
      "outputs": [
        {
          "output_type": "execute_result",
          "data": {
            "text/plain": [
              "array([0.20571078, 0.19592707, 0.19370808, 0.17953683, 0.1729303 ,\n",
              "       0.19214471, 0.19052884, 0.20759646, 0.19749728, 0.20189042,\n",
              "       0.19275066, 0.19557843, 0.19118528, 0.21264606, 0.24264065,\n",
              "       0.26248555, 0.25334579, 0.24546842, 0.24546842, 0.24799322,\n",
              "       0.24390305, 0.23819701, 0.24001486, 0.24935661, 0.28268393,\n",
              "       0.30353876, 0.3066695 , 0.31505183, 0.29025832, 0.2681916 ,\n",
              "       0.27172631, 0.26945399, 0.25809241, 0.26915102, 0.27324119,\n",
              "       0.26920151, 0.27384714, 0.263142  , 0.26627275, 0.26627275,\n",
              "       0.27197879, 0.27228177, 0.2681916 , 0.2669292 , 0.26248555,\n",
              "       0.30353876, 0.28364335, 0.30353876, 0.29343957, 0.29091477,\n",
              "       0.31363794, 0.31868754, 0.32121234, 0.31490034, 0.32181829,\n",
              "       0.32181829, 0.30227636, 0.32121234, 0.31868754, 0.33131152])"
            ]
          },
          "metadata": {
            "tags": []
          },
          "execution_count": 11
        }
      ]
    },
    {
      "cell_type": "code",
      "metadata": {
        "id": "rGOddWZmls_y"
      },
      "source": [
        "n_features = 1\n",
        "X_train = np.reshape(X_train, (X_train.shape[0], X_train.shape[1], n_features))"
      ],
      "execution_count": null,
      "outputs": []
    },
    {
      "cell_type": "code",
      "metadata": {
        "colab": {
          "base_uri": "https://localhost:8080/"
        },
        "id": "d6GEv-57kvIl",
        "outputId": "b8a55b43-c0d3-4345-aace-28002df0ef63"
      },
      "source": [
        "X_train"
      ],
      "execution_count": null,
      "outputs": [
        {
          "output_type": "execute_result",
          "data": {
            "text/plain": [
              "array([[[0.20571078],\n",
              "        [0.19592707],\n",
              "        [0.19370808],\n",
              "        ...,\n",
              "        [0.32121234],\n",
              "        [0.31868754],\n",
              "        [0.33131152]],\n",
              "\n",
              "       [[0.19592707],\n",
              "        [0.19370808],\n",
              "        [0.17953683],\n",
              "        ...,\n",
              "        [0.31868754],\n",
              "        [0.33131152],\n",
              "        [0.33131152]],\n",
              "\n",
              "       [[0.19370808],\n",
              "        [0.17953683],\n",
              "        [0.1729303 ],\n",
              "        ...,\n",
              "        [0.33131152],\n",
              "        [0.33131152],\n",
              "        [0.31929349]],\n",
              "\n",
              "       ...,\n",
              "\n",
              "       [[0.71492385],\n",
              "        [0.71768001],\n",
              "        [0.71807374],\n",
              "        ...,\n",
              "        [0.84708   ],\n",
              "        [0.85025831],\n",
              "        [0.88250494]],\n",
              "\n",
              "       [[0.71768001],\n",
              "        [0.71807374],\n",
              "        [0.73966363],\n",
              "        ...,\n",
              "        [0.85025831],\n",
              "        [0.88250494],\n",
              "        [0.89833029]],\n",
              "\n",
              "       [[0.71807374],\n",
              "        [0.73966363],\n",
              "        [0.74524157],\n",
              "        ...,\n",
              "        [0.88250494],\n",
              "        [0.89833029],\n",
              "        [0.90078024]]])"
            ]
          },
          "metadata": {
            "tags": []
          },
          "execution_count": 13
        }
      ]
    },
    {
      "cell_type": "code",
      "metadata": {
        "colab": {
          "base_uri": "https://localhost:8080/"
        },
        "id": "VwScqp4-UQ2h",
        "outputId": "4bcdb617-a3e1-48b7-9634-0626e86b1eed"
      },
      "source": [
        "y_train"
      ],
      "execution_count": null,
      "outputs": [
        {
          "output_type": "execute_result",
          "data": {
            "text/plain": [
              "array([0.33131152, 0.31929349, 0.30732595, ..., 0.89833029, 0.90078024,\n",
              "       0.89177502])"
            ]
          },
          "metadata": {
            "tags": []
          },
          "execution_count": 14
        }
      ]
    },
    {
      "cell_type": "code",
      "metadata": {
        "colab": {
          "base_uri": "https://localhost:8080/"
        },
        "id": "Su1X5whCKFBU",
        "outputId": "098c7e5e-7f19-4992-a4fa-0f8f11b35d15"
      },
      "source": [
        "X_train.shape"
      ],
      "execution_count": null,
      "outputs": [
        {
          "output_type": "execute_result",
          "data": {
            "text/plain": [
              "(4440, 60, 1)"
            ]
          },
          "metadata": {
            "tags": []
          },
          "execution_count": 15
        }
      ]
    },
    {
      "cell_type": "code",
      "metadata": {
        "colab": {
          "base_uri": "https://localhost:8080/"
        },
        "id": "f-t-VMKmdImT",
        "outputId": "96285c32-0ca7-42a5-8d79-07b03c70f629"
      },
      "source": [
        "y_train.shape"
      ],
      "execution_count": null,
      "outputs": [
        {
          "output_type": "execute_result",
          "data": {
            "text/plain": [
              "(4440,)"
            ]
          },
          "metadata": {
            "tags": []
          },
          "execution_count": 16
        }
      ]
    },
    {
      "cell_type": "code",
      "metadata": {
        "id": "QMWq9VopmISy"
      },
      "source": [
        "from keras.models import Sequential\n",
        "from keras.layers import Dense\n",
        "from keras.layers import LSTM\n",
        "from keras.layers import Dropout"
      ],
      "execution_count": null,
      "outputs": []
    },
    {
      "cell_type": "code",
      "metadata": {
        "id": "bidGMjCQno_4"
      },
      "source": [
        "regressor = Sequential()\n",
        "\n",
        "regressor.add(LSTM(units = 50, return_sequences = True, input_shape = (X_train.shape[1], 1)))\n",
        "regressor.add(Dropout(0.2))\n",
        "\n",
        "regressor.add(LSTM(units = 50, return_sequences = True))\n",
        "regressor.add(Dropout(0.2))\n",
        "\n",
        "regressor.add(LSTM(units = 50, return_sequences = True))\n",
        "regressor.add(Dropout(0.2))\n",
        "\n",
        "regressor.add(LSTM(units = 50))\n",
        "regressor.add(Dropout(0.2))\n",
        "\n",
        "regressor.add(Dense(units = 1))\n",
        "\n",
        "regressor.compile(optimizer = 'adam', loss = 'mean_squared_error')"
      ],
      "execution_count": null,
      "outputs": []
    },
    {
      "cell_type": "code",
      "metadata": {
        "colab": {
          "background_save": true,
          "base_uri": "https://localhost:8080/"
        },
        "id": "8FQ12ErBnpKj",
        "outputId": "0ff99b66-29cd-42ec-863c-57fbb930b2a3"
      },
      "source": [
        "regressor.fit(X_train, y_train, epochs = 100, batch_size = 32)"
      ],
      "execution_count": null,
      "outputs": [
        {
          "output_type": "stream",
          "text": [
            "Epoch 1/100\n",
            "139/139 [==============================] - 22s 113ms/step - loss: 0.0455\n",
            "Epoch 2/100\n",
            "139/139 [==============================] - 16s 114ms/step - loss: 0.0034\n",
            "Epoch 3/100\n",
            "139/139 [==============================] - 16s 114ms/step - loss: 0.0031\n",
            "Epoch 4/100\n",
            "139/139 [==============================] - 16s 114ms/step - loss: 0.0032\n",
            "Epoch 5/100\n",
            "139/139 [==============================] - 16s 115ms/step - loss: 0.0029\n",
            "Epoch 6/100\n",
            "139/139 [==============================] - 17s 123ms/step - loss: 0.0028\n",
            "Epoch 7/100\n",
            "139/139 [==============================] - 16s 114ms/step - loss: 0.0022\n",
            "Epoch 8/100\n",
            "139/139 [==============================] - 16s 115ms/step - loss: 0.0024\n",
            "Epoch 9/100\n",
            "139/139 [==============================] - 16s 116ms/step - loss: 0.0023\n",
            "Epoch 10/100\n",
            "139/139 [==============================] - 17s 120ms/step - loss: 0.0021\n",
            "Epoch 11/100\n",
            "139/139 [==============================] - 17s 119ms/step - loss: 0.0021\n",
            "Epoch 12/100\n",
            "139/139 [==============================] - 17s 121ms/step - loss: 0.0019\n",
            "Epoch 13/100\n",
            "139/139 [==============================] - 16s 118ms/step - loss: 0.0017\n",
            "Epoch 14/100\n",
            "139/139 [==============================] - 17s 119ms/step - loss: 0.0019\n",
            "Epoch 15/100\n",
            "139/139 [==============================] - 17s 122ms/step - loss: 0.0019\n",
            "Epoch 16/100\n",
            "139/139 [==============================] - 16s 118ms/step - loss: 0.0017\n",
            "Epoch 17/100\n",
            "139/139 [==============================] - 16s 117ms/step - loss: 0.0016\n",
            "Epoch 18/100\n",
            "139/139 [==============================] - 16s 118ms/step - loss: 0.0016\n",
            "Epoch 19/100\n",
            "139/139 [==============================] - 17s 119ms/step - loss: 0.0015\n",
            "Epoch 20/100\n",
            "139/139 [==============================] - 16s 118ms/step - loss: 0.0016\n",
            "Epoch 21/100\n",
            "139/139 [==============================] - 17s 125ms/step - loss: 0.0014\n",
            "Epoch 22/100\n",
            "139/139 [==============================] - 16s 118ms/step - loss: 0.0014\n",
            "Epoch 23/100\n",
            "139/139 [==============================] - 16s 118ms/step - loss: 0.0015\n",
            "Epoch 24/100\n",
            "139/139 [==============================] - 17s 119ms/step - loss: 0.0013\n",
            "Epoch 25/100\n",
            "139/139 [==============================] - 17s 119ms/step - loss: 0.0012\n",
            "Epoch 26/100\n",
            "139/139 [==============================] - 17s 120ms/step - loss: 0.0013\n",
            "Epoch 27/100\n",
            "139/139 [==============================] - 17s 121ms/step - loss: 0.0012\n",
            "Epoch 28/100\n",
            "139/139 [==============================] - 16s 119ms/step - loss: 0.0013\n",
            "Epoch 29/100\n",
            "139/139 [==============================] - 17s 119ms/step - loss: 0.0012\n",
            "Epoch 30/100\n",
            "139/139 [==============================] - 17s 120ms/step - loss: 0.0011\n",
            "Epoch 31/100\n",
            "139/139 [==============================] - 17s 120ms/step - loss: 0.0010\n",
            "Epoch 32/100\n",
            "139/139 [==============================] - 17s 120ms/step - loss: 0.0011\n",
            "Epoch 33/100\n",
            "139/139 [==============================] - 17s 120ms/step - loss: 0.0010\n",
            "Epoch 34/100\n",
            "139/139 [==============================] - 17s 123ms/step - loss: 0.0011\n",
            "Epoch 35/100\n",
            "139/139 [==============================] - 17s 123ms/step - loss: 0.0010\n",
            "Epoch 36/100\n",
            "139/139 [==============================] - 17s 121ms/step - loss: 0.0011\n",
            "Epoch 37/100\n",
            "139/139 [==============================] - 17s 122ms/step - loss: 0.0011\n",
            "Epoch 38/100\n",
            "139/139 [==============================] - 17s 119ms/step - loss: 0.0011\n",
            "Epoch 39/100\n",
            "139/139 [==============================] - 17s 119ms/step - loss: 9.1740e-04\n",
            "Epoch 40/100\n",
            "139/139 [==============================] - 17s 123ms/step - loss: 9.2743e-04\n",
            "Epoch 41/100\n",
            "139/139 [==============================] - 17s 121ms/step - loss: 9.1609e-04\n",
            "Epoch 42/100\n",
            "139/139 [==============================] - 17s 121ms/step - loss: 0.0010\n",
            "Epoch 43/100\n",
            "139/139 [==============================] - 17s 121ms/step - loss: 9.4624e-04\n",
            "Epoch 44/100\n",
            "139/139 [==============================] - 17s 121ms/step - loss: 9.7528e-04\n",
            "Epoch 45/100\n",
            "139/139 [==============================] - 17s 120ms/step - loss: 0.0011\n",
            "Epoch 46/100\n",
            "139/139 [==============================] - 17s 123ms/step - loss: 8.8265e-04\n",
            "Epoch 47/100\n",
            "139/139 [==============================] - 17s 124ms/step - loss: 8.3307e-04\n",
            "Epoch 48/100\n",
            "139/139 [==============================] - 17s 124ms/step - loss: 9.0803e-04\n",
            "Epoch 49/100\n",
            "139/139 [==============================] - 17s 125ms/step - loss: 0.0012\n",
            "Epoch 50/100\n",
            "139/139 [==============================] - 18s 129ms/step - loss: 8.5952e-04\n",
            "Epoch 51/100\n",
            "139/139 [==============================] - 18s 128ms/step - loss: 8.8550e-04\n",
            "Epoch 52/100\n",
            "139/139 [==============================] - 19s 135ms/step - loss: 7.9692e-04\n",
            "Epoch 53/100\n",
            "139/139 [==============================] - 18s 132ms/step - loss: 8.8758e-04\n",
            "Epoch 54/100\n",
            "139/139 [==============================] - 18s 127ms/step - loss: 8.6311e-04\n",
            "Epoch 55/100\n",
            "139/139 [==============================] - 18s 127ms/step - loss: 7.7674e-04\n",
            "Epoch 56/100\n",
            "139/139 [==============================] - 18s 128ms/step - loss: 8.7142e-04\n",
            "Epoch 57/100\n",
            "139/139 [==============================] - 19s 139ms/step - loss: 8.0495e-04\n",
            "Epoch 58/100\n",
            "139/139 [==============================] - 18s 126ms/step - loss: 7.8363e-04\n",
            "Epoch 59/100\n",
            "139/139 [==============================] - 18s 127ms/step - loss: 7.9879e-04\n",
            "Epoch 60/100\n",
            "139/139 [==============================] - 18s 128ms/step - loss: 7.9638e-04\n",
            "Epoch 61/100\n",
            "139/139 [==============================] - 18s 128ms/step - loss: 8.6457e-04\n",
            "Epoch 62/100\n",
            "139/139 [==============================] - 18s 131ms/step - loss: 8.0483e-04\n",
            "Epoch 63/100\n",
            "139/139 [==============================] - 18s 131ms/step - loss: 8.7790e-04\n",
            "Epoch 64/100\n",
            "139/139 [==============================] - 18s 131ms/step - loss: 7.1631e-04\n",
            "Epoch 65/100\n",
            "139/139 [==============================] - 18s 127ms/step - loss: 8.2484e-04\n",
            "Epoch 66/100\n",
            "139/139 [==============================] - 17s 122ms/step - loss: 7.9933e-04\n",
            "Epoch 67/100\n",
            "139/139 [==============================] - 17s 121ms/step - loss: 7.6003e-04\n",
            "Epoch 68/100\n",
            "139/139 [==============================] - 17s 120ms/step - loss: 7.1450e-04\n",
            "Epoch 69/100\n",
            "139/139 [==============================] - 16s 117ms/step - loss: 7.3261e-04\n",
            "Epoch 70/100\n",
            "139/139 [==============================] - 17s 122ms/step - loss: 8.2916e-04\n",
            "Epoch 71/100\n",
            "139/139 [==============================] - 17s 119ms/step - loss: 7.3298e-04\n",
            "Epoch 72/100\n",
            "139/139 [==============================] - 16s 116ms/step - loss: 8.0541e-04\n",
            "Epoch 73/100\n",
            "139/139 [==============================] - 16s 117ms/step - loss: 7.1039e-04\n",
            "Epoch 74/100\n",
            "139/139 [==============================] - 16s 116ms/step - loss: 7.3332e-04\n",
            "Epoch 75/100\n",
            "139/139 [==============================] - 16s 116ms/step - loss: 6.8958e-04\n",
            "Epoch 76/100\n",
            "139/139 [==============================] - 16s 116ms/step - loss: 8.3006e-04\n",
            "Epoch 77/100\n",
            "139/139 [==============================] - 16s 116ms/step - loss: 8.5941e-04\n",
            "Epoch 78/100\n",
            "139/139 [==============================] - 16s 114ms/step - loss: 7.4676e-04\n",
            "Epoch 79/100\n",
            "139/139 [==============================] - 16s 114ms/step - loss: 7.7304e-04\n",
            "Epoch 80/100\n",
            "139/139 [==============================] - 16s 114ms/step - loss: 8.2634e-04\n",
            "Epoch 81/100\n",
            "139/139 [==============================] - 16s 117ms/step - loss: 7.1152e-04\n",
            "Epoch 82/100\n",
            "139/139 [==============================] - 16s 113ms/step - loss: 6.9385e-04\n",
            "Epoch 83/100\n",
            "139/139 [==============================] - 16s 113ms/step - loss: 7.6047e-04\n",
            "Epoch 84/100\n",
            "139/139 [==============================] - 16s 114ms/step - loss: 7.4568e-04\n",
            "Epoch 85/100\n",
            "139/139 [==============================] - 16s 115ms/step - loss: 7.4703e-04\n",
            "Epoch 86/100\n",
            "139/139 [==============================] - 16s 116ms/step - loss: 6.9549e-04\n",
            "Epoch 87/100\n",
            "139/139 [==============================] - 16s 115ms/step - loss: 7.4185e-04\n",
            "Epoch 88/100\n",
            "139/139 [==============================] - 16s 112ms/step - loss: 6.6157e-04\n",
            "Epoch 89/100\n",
            "139/139 [==============================] - 15s 111ms/step - loss: 7.5582e-04\n",
            "Epoch 90/100\n",
            "139/139 [==============================] - 16s 113ms/step - loss: 7.9670e-04\n",
            "Epoch 91/100\n",
            "139/139 [==============================] - 15s 111ms/step - loss: 6.7846e-04\n",
            "Epoch 92/100\n",
            "139/139 [==============================] - 16s 113ms/step - loss: 7.1123e-04\n",
            "Epoch 93/100\n",
            "139/139 [==============================] - 16s 113ms/step - loss: 6.8411e-04\n",
            "Epoch 94/100\n",
            "139/139 [==============================] - 16s 112ms/step - loss: 7.0017e-04\n",
            "Epoch 95/100\n",
            "139/139 [==============================] - 16s 112ms/step - loss: 7.1074e-04\n",
            "Epoch 96/100\n",
            "139/139 [==============================] - 16s 114ms/step - loss: 6.2554e-04\n",
            "Epoch 97/100\n",
            "139/139 [==============================] - 16s 114ms/step - loss: 6.5458e-04\n",
            "Epoch 98/100\n",
            "139/139 [==============================] - 16s 114ms/step - loss: 7.1400e-04\n",
            "Epoch 99/100\n",
            "139/139 [==============================] - 17s 124ms/step - loss: 6.9464e-04\n",
            "Epoch 100/100\n",
            "139/139 [==============================] - 16s 118ms/step - loss: 6.8624e-04\n"
          ],
          "name": "stdout"
        },
        {
          "output_type": "execute_result",
          "data": {
            "text/plain": [
              "<tensorflow.python.keras.callbacks.History at 0x7fdaa749f390>"
            ]
          },
          "metadata": {
            "tags": []
          },
          "execution_count": 0
        }
      ]
    },
    {
      "cell_type": "code",
      "metadata": {
        "colab": {
          "background_save": true
        },
        "id": "U3d7wjTXtGAA"
      },
      "source": [
        "# test_df = pd.read_csv('sample_data/tatatest.csv')\n",
        "test_set_size = 1000\n",
        "test_set = price_df.iloc[:,4:5].values[train_cutoff:train_cutoff+test_set_size]\n",
        "real_stock_price = test_set"
      ],
      "execution_count": null,
      "outputs": []
    },
    {
      "cell_type": "code",
      "metadata": {
        "colab": {
          "background_save": true
        },
        "id": "O97jyjF_fR85"
      },
      "source": [
        "for i in np.where(np.isnan(test_set))[0]: \n",
        "  test_set[i] = test_set[i-1] if not np.isnan(test_set[i-1]) else 0 "
      ],
      "execution_count": null,
      "outputs": []
    },
    {
      "cell_type": "code",
      "metadata": {
        "colab": {
          "background_save": true
        },
        "id": "Cxwu7uDJs_vo"
      },
      "source": [
        "dataset_total = price_df['5. adjusted close'].values[:train_cutoff+test_set_size]\n",
        "inputs = dataset_total[len(dataset_total)-len(test_set)-60:].reshape(-1,1)\n",
        "\n",
        "inputs = sc.transform(inputs)\n",
        "X_test = []\n",
        "for i in range(n_steps_in, n_steps_in+120):\n",
        "    X_test.append(inputs[i-n_steps_in:i, 0])\n",
        "X_test = np.array(X_test)\n",
        "X_test = np.reshape(X_test, (X_test.shape[0], X_test.shape[1], 1))"
      ],
      "execution_count": null,
      "outputs": []
    },
    {
      "cell_type": "code",
      "metadata": {
        "colab": {
          "background_save": true
        },
        "id": "PwvY389YVJik"
      },
      "source": [
        "X_samp = []\n",
        "train_end = training_set_scaled.shape[0]\n",
        "for i in range(train_end-n_steps_in, train_end-0):\n",
        "    X_samp.append(training_set_scaled[i-n_steps_in:i, 0])\n",
        "X_samp = np.array(X_samp)"
      ],
      "execution_count": null,
      "outputs": []
    },
    {
      "cell_type": "code",
      "metadata": {
        "colab": {
          "background_save": true
        },
        "id": "oA56HsRqdY48",
        "outputId": "9413df97-c750-4ec2-d85b-c183065d1738"
      },
      "source": [
        "X_samp.shape"
      ],
      "execution_count": null,
      "outputs": [
        {
          "output_type": "execute_result",
          "data": {
            "text/plain": [
              "(60, 60)"
            ]
          },
          "metadata": {
            "tags": []
          },
          "execution_count": 0
        }
      ]
    },
    {
      "cell_type": "code",
      "metadata": {
        "colab": {
          "background_save": true
        },
        "id": "Mw-1xMcEcz4j"
      },
      "source": [
        "X_samp = X_samp.reshape((X_samp.shape[0], X_samp.shape[1], 1))"
      ],
      "execution_count": null,
      "outputs": []
    },
    {
      "cell_type": "code",
      "metadata": {
        "colab": {
          "background_save": true
        },
        "id": "k3AqEaT9uO_4"
      },
      "source": [
        "def get_prediction(model, train, n_steps=60, max_intervals=120): \n",
        "  predictions = []\n",
        "  x_data = train[-n_steps:].reshape((1, n_steps, train.shape[1]))\n",
        "  for i in range(max_intervals): \n",
        "    y_pred = model.predict(x_data)\n",
        "    predictions.append(y_pred)\n",
        "    x_data = np.hstack(( x_data[:,1:,:], y_pred.reshape((1, 1, 1)) ))\n",
        "  predictions = np.array(predictions)\n",
        "  predictions_c = np.concatenate(predictions)\n",
        "  return predictions_c"
      ],
      "execution_count": null,
      "outputs": []
    },
    {
      "cell_type": "code",
      "metadata": {
        "colab": {
          "background_save": true
        },
        "id": "jZEvI5YPvhOc"
      },
      "source": [
        "initial_data_o = price_df.iloc[:,4:5].values[:train_cutoff]\n",
        "initial_data = sc.transform(initial_data_o)\n",
        "test_data_o = price_df.iloc[:,4:5].values[train_cutoff:train_cutoff+120]\n",
        "test_data = sc.transform(test_data_o)"
      ],
      "execution_count": null,
      "outputs": []
    },
    {
      "cell_type": "code",
      "metadata": {
        "colab": {
          "background_save": true
        },
        "id": "SRkPI7SatGx3"
      },
      "source": [
        "# predicted_stock_price = regressor.predict(X_test)\n",
        "# predicted_stock_price = sc.inverse_transform(predicted_stock_price)\n",
        "predicted_stock_price = get_prediction(regressor, initial_data)\n",
        "predicted_stock_price = sc.inverse_transform(predicted_stock_price)\n",
        "real_stock_price = np.copy(test_data)\n",
        "real_stock_price = sc.inverse_transform(real_stock_price)"
      ],
      "execution_count": null,
      "outputs": []
    },
    {
      "cell_type": "code",
      "metadata": {
        "colab": {
          "background_save": true
        },
        "id": "cCA4KB2-mTfs"
      },
      "source": [
        "predicted_last_2 = initial_data[-120:].reshape((120))\n",
        "X_data = []\n",
        "for i in range(60, 120):\n",
        "    X_data.append(predicted_last_2[i-60:i])\n",
        "X_data = np.array(X_data)\n",
        "X_data = np.reshape(X_data, (X_data.shape[0], X_data.shape[1], 1))\n",
        "\n",
        "predicted_stock_price_2 = regressor.predict(X_data)\n",
        "predicted_stock_price_2 = sc.inverse_transform(predicted_stock_price_2)\n",
        "predicted_stock_price_2 = predicted_stock_price_2.reshape(-1)"
      ],
      "execution_count": null,
      "outputs": []
    },
    {
      "cell_type": "code",
      "metadata": {
        "colab": {
          "background_save": true
        },
        "id": "w9x9Wzaq2Bcg"
      },
      "source": [
        "predicted_stock_price_3 = regressor.predict(X_test)\n",
        "predicted_stock_price_3 = sc.inverse_transform(predicted_stock_price_3)\n",
        "predicted_stock_price_3 = predicted_stock_price_3.reshape(-1)\n",
        "\n",
        "predicted_stock_price_4 = regressor.predict(X_samp)\n",
        "predicted_stock_price_4 = sc.inverse_transform(predicted_stock_price_4)\n",
        "predicted_stock_price_4 = predicted_stock_price_4.reshape(-1)"
      ],
      "execution_count": null,
      "outputs": []
    },
    {
      "cell_type": "code",
      "metadata": {
        "colab": {
          "background_save": true
        },
        "id": "C94D4s6e_cAX",
        "outputId": "7f8232bc-4b05-4e8f-d130-1691a93c07c1"
      },
      "source": [
        "predicted_stock_price_4"
      ],
      "execution_count": null,
      "outputs": [
        {
          "output_type": "execute_result",
          "data": {
            "text/plain": [
              "array([123.709076, 125.47817 , 126.6304  , 126.82296 , 129.64566 ,\n",
              "       131.37627 , 130.4102  , 130.13417 , 130.42827 , 130.7874  ,\n",
              "       131.19864 , 132.52138 , 133.04625 , 132.87393 , 132.79782 ,\n",
              "       133.34644 , 134.23172 , 134.12106 , 133.39182 , 131.9332  ,\n",
              "       131.46219 , 131.21576 , 131.33478 , 133.49945 , 134.7212  ,\n",
              "       135.68315 , 135.63008 , 136.83797 , 137.54523 , 137.57536 ,\n",
              "       137.00075 , 136.74228 , 137.08339 , 137.12398 , 136.98827 ,\n",
              "       136.7769  , 136.68759 , 136.84259 , 136.47746 , 136.46938 ,\n",
              "       136.21265 , 136.07552 , 136.5657  , 137.7026  , 137.9735  ,\n",
              "       138.39238 , 137.80441 , 136.53745 , 137.0247  , 137.39075 ,\n",
              "       137.21266 , 137.11595 , 137.34532 , 136.97144 , 136.77567 ,\n",
              "       138.34438 , 139.31522 , 141.61143 , 143.72162 , 144.87154 ],\n",
              "      dtype=float32)"
            ]
          },
          "metadata": {
            "tags": []
          },
          "execution_count": 0
        }
      ]
    },
    {
      "cell_type": "code",
      "metadata": {
        "colab": {
          "background_save": true
        },
        "id": "1gGwfKPbtdQO",
        "outputId": "558b3ec6-142d-49c4-df6b-535b626c61bd"
      },
      "source": [
        "plt.figure(figsize = (18,9))\n",
        "\n",
        "pred_start = 60\n",
        "\n",
        "plt.plot(range(pred_start), initial_data_o[-60:], color='red', label='Actual prior')\n",
        "plt.plot(range(pred_start, pred_start+120), real_stock_price, color = 'orange', label = 'Actual')\n",
        "plt.plot(range(pred_start, pred_start+120), predicted_stock_price, color = 'blue', label = 'Predicted')\n",
        "plt.plot(range(pred_start, pred_start+60), predicted_stock_price_2, color = 'cyan', label = 'Predicted2')\n",
        "plt.plot(range(pred_start, pred_start+120), predicted_stock_price_3, color = 'green', label = 'Predicted3')\n",
        "plt.plot(range(pred_start, pred_start+60), predicted_stock_price_4, color = 'magenta', label = 'Predicted4')\n",
        "plt.title('IBM Stock Price')\n",
        "plt.xlabel('Time')\n",
        "plt.ylabel('Price')\n",
        "plt.legend()\n",
        "plt.show()"
      ],
      "execution_count": null,
      "outputs": [
        {
          "output_type": "display_data",
          "data": {
            "image/png": "[encoded data removed]",
            "text/plain": [
              "<Figure size 1296x648 with 1 Axes>"
            ]
          },
          "metadata": {
            "tags": []
          }
        }
      ]
    },
    {
      "cell_type": "code",
      "metadata": {
        "colab": {
          "background_save": true
        },
        "id": "ZoBKYWTl4lzk",
        "outputId": "2b57a534-e1dc-4972-ef6c-3032aa043339"
      },
      "source": [
        "plt.figure(figsize=(18,9))\n",
        "\n",
        "plt.plot(initial_data_o)"
      ],
      "execution_count": null,
      "outputs": [
        {
          "output_type": "execute_result",
          "data": {
            "text/plain": [
              "[<matplotlib.lines.Line2D at 0x7fdaa35cfcd0>]"
            ]
          },
          "metadata": {
            "tags": []
          },
          "execution_count": 0
        },
        {
          "output_type": "display_data",
          "data": {
            "image/png": "[encoded data removed]",
            "text/plain": [
              "<Figure size 1296x648 with 1 Axes>"
            ]
          },
          "metadata": {
            "tags": []
          }
        }
      ]
    }
  ]
}